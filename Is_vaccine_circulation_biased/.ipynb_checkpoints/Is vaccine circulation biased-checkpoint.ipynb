{
 "cells": [
  {
   "cell_type": "code",
   "execution_count": 22,
   "metadata": {},
   "outputs": [
    {
     "name": "stdout",
     "output_type": "stream",
     "text": [
      "Collecting pdfminer\n",
      "  Downloading pdfminer-20191125.tar.gz (4.2 MB)\n",
      "Requirement already satisfied: pycryptodome in c:\\users\\abhishek\\anaconda3\\envs\\prereqml\\lib\\site-packages (from pdfminer) (3.9.9)\n",
      "Building wheels for collected packages: pdfminer\n",
      "  Building wheel for pdfminer (setup.py): started\n",
      "  Building wheel for pdfminer (setup.py): finished with status 'done'\n",
      "  Created wheel for pdfminer: filename=pdfminer-20191125-py3-none-any.whl size=6140125 sha256=98a882a87ede75171dc60c12a1cfb0838684039fab73cb6723a53f6f05b13d25\n",
      "  Stored in directory: c:\\users\\abhishek\\appdata\\local\\pip\\cache\\wheels\\1c\\28\\7d\\f390b82bb0307deb63ff27a1474fd308ec68ee028cb9ab6283\n",
      "Successfully built pdfminer\n",
      "Installing collected packages: pdfminer\n",
      "Successfully installed pdfminer-20191125\n"
     ]
    }
   ],
   "source": [
    "!pip install pdfminer"
   ]
  },
  {
   "cell_type": "code",
   "execution_count": 42,
   "metadata": {},
   "outputs": [
    {
     "name": "stdout",
     "output_type": "stream",
     "text": [
      "Requirement already satisfied: pdfminer.six in c:\\users\\abhishek\\anaconda3\\envs\\prereqml\\lib\\site-packages (20181108)\n",
      "Requirement already satisfied: pycryptodome in c:\\users\\abhishek\\anaconda3\\envs\\prereqml\\lib\\site-packages (from pdfminer.six) (3.9.9)\n",
      "Requirement already satisfied: sortedcontainers in c:\\users\\abhishek\\anaconda3\\envs\\prereqml\\lib\\site-packages (from pdfminer.six) (2.3.0)\n",
      "Requirement already satisfied: six in c:\\users\\abhishek\\anaconda3\\envs\\prereqml\\lib\\site-packages (from pdfminer.six) (1.12.0)\n"
     ]
    }
   ],
   "source": [
    "!pip install pdfminer.six"
   ]
  },
  {
   "cell_type": "code",
   "execution_count": 1,
   "metadata": {},
   "outputs": [],
   "source": [
    "from io import StringIO\n",
    "\n",
    "from pdfminer.converter import TextConverter\n",
    "from pdfminer.layout import LAParams\n",
    "from pdfminer.pdfdocument import PDFDocument\n",
    "from pdfminer.pdfinterp import PDFResourceManager, PDFPageInterpreter\n",
    "from pdfminer.pdfpage import PDFPage\n",
    "from pdfminer.pdfparser import PDFParser\n"
   ]
  },
  {
   "cell_type": "code",
   "execution_count": 2,
   "metadata": {},
   "outputs": [],
   "source": [
    "def readTextFromPDF(file_name):\n",
    "    output_string = StringIO()\n",
    "    with open(file_name, 'rb') as in_file:\n",
    "        parser = PDFParser(in_file)\n",
    "        doc = PDFDocument(parser)\n",
    "        rsrcmgr = PDFResourceManager()\n",
    "        device = TextConverter(rsrcmgr, output_string, laparams=LAParams())\n",
    "        interpreter = PDFPageInterpreter(rsrcmgr, device)\n",
    "        for page in PDFPage.create_pages(doc):\n",
    "            interpreter.process_page(page)\n",
    "\n",
    "    return(output_string.getvalue())   "
   ]
  },
  {
   "cell_type": "code",
   "execution_count": 55,
   "metadata": {},
   "outputs": [
    {
     "name": "stdout",
     "output_type": "stream",
     "text": [
      "18/JAN/2021\n"
     ]
    }
   ],
   "source": [
    "for line in readTextFromPDF('PIB1689778.pdf').split('\\n'):\n",
    "    if 'Posted On' in line:\n",
    "        print(\"/\".join(line.split()[2:5]))"
   ]
  },
  {
   "cell_type": "code",
   "execution_count": 63,
   "metadata": {},
   "outputs": [],
   "source": [
    "import numpy as np"
   ]
  },
  {
   "cell_type": "markdown",
   "metadata": {},
   "source": [
    "### Get all the states and Union territories"
   ]
  },
  {
   "cell_type": "code",
   "execution_count": 3,
   "metadata": {},
   "outputs": [
    {
     "name": "stdout",
     "output_type": "stream",
     "text": [
      "\n",
      "['Andhra Pradesh', 'Arunachal Pradesh', 'Assam', 'Bihar', 'Chhattisgarh', 'Delhi', 'Haryana', 'Himachal Pradesh', 'Jammu & Kashmir', 'Jharkhand', 'Karnataka', 'Kerala', 'Lakshadweep', 'Madhya Pradesh', 'Manipur', 'Mizoram', 'Nagaland', 'Odisha', 'Puducherry', 'Punjab', 'Tamil Nadu', 'Telangana', 'Tripura', 'Uttarakhand', 'West Bengal', 'All India']\n"
     ]
    },
    {
     "data": {
      "text/plain": [
       "26"
      ]
     },
     "execution_count": 3,
     "metadata": {},
     "output_type": "execute_result"
    }
   ],
   "source": [
    "states = []\n",
    "nextState = False\n",
    "for line in readTextFromPDF('PIB1689778.pdf').split('\\n'):\n",
    "    if nextState:\n",
    "        states.append(line.strip())\n",
    "    elif 'State' in line:\n",
    "        nextState = True\n",
    "        print(\"/\".join(line.split()[2:5]))\n",
    "\n",
    "#print(f\"{states[:19]} \\n {states[49:56]} \\n {states}\")\n",
    "\n",
    "states = states[:19] + states[49:56]\n",
    "print(states)\n",
    "len(states)"
   ]
  },
  {
   "cell_type": "code",
   "execution_count": 4,
   "metadata": {},
   "outputs": [],
   "source": [
    "states = states + ['Goa', 'Gujarat', 'Maharashtra', 'Meghalaya', 'Rajasthan', 'Sikkim', 'Uttar Pradesh', 'Chandigarh','Andaman and Nicobar Islands','Dadra & Nagar Haveli','Daman & Diu','Ladakh', 'D a d r a   &   N a g a r','A & N Islands']"
   ]
  },
  {
   "cell_type": "code",
   "execution_count": 8,
   "metadata": {},
   "outputs": [],
   "source": [
    "states.append('Dadra & Nagar Haveli')"
   ]
  },
  {
   "cell_type": "code",
   "execution_count": 9,
   "metadata": {},
   "outputs": [],
   "source": [
    "states.append('Miscellaneous')"
   ]
  },
  {
   "cell_type": "code",
   "execution_count": 10,
   "metadata": {},
   "outputs": [
    {
     "data": {
      "text/plain": [
       "42"
      ]
     },
     "execution_count": 10,
     "metadata": {},
     "output_type": "execute_result"
    }
   ],
   "source": [
    "len(states)"
   ]
  },
  {
   "cell_type": "code",
   "execution_count": null,
   "metadata": {},
   "outputs": [],
   "source": []
  },
  {
   "cell_type": "markdown",
   "metadata": {},
   "source": [
    "## TODO\n",
    "\n",
    "### Will create a dataframe wih rows as states and columns as timeframe\n",
    "\n",
    "### Create anoher table with count of side effects from vaccine each day"
   ]
  },
  {
   "cell_type": "code",
   "execution_count": 6,
   "metadata": {},
   "outputs": [],
   "source": [
    "import re\n",
    "\n",
    "regex = r\"PIB.*pdf\""
   ]
  },
  {
   "cell_type": "code",
   "execution_count": 7,
   "metadata": {},
   "outputs": [
    {
     "data": {
      "text/plain": [
       "['PIB1689167.pdf',\n",
       " 'PIB1689778.pdf',\n",
       " 'PIB1690120.pdf',\n",
       " 'PIB1690536.pdf',\n",
       " 'PIB1690997.pdf',\n",
       " 'PIB1691304.pdf',\n",
       " 'PIB1691661.pdf']"
      ]
     },
     "execution_count": 7,
     "metadata": {},
     "output_type": "execute_result"
    }
   ],
   "source": [
    "#Get the pdf in the present directory\n",
    "\n",
    "from os import listdir\n",
    "from os.path import isfile, join\n",
    "vaccFiles = [f for f in listdir(\"./\") if isfile(f) and re.search(regex,f) != None]\n",
    "vaccFiles"
   ]
  },
  {
   "cell_type": "code",
   "execution_count": 11,
   "metadata": {
    "scrolled": true
   },
   "outputs": [
    {
     "name": "stdout",
     "output_type": "stream",
     "text": [
      "PIB1689167.pdf need to be treated differently\n",
      "Reading File: PIB1689778.pdf\n",
      "State: ['Andhra Pradesh', 'Arunachal Pradesh', 'Assam', 'Bihar', 'Chhattisgarh', 'Delhi', 'Haryana', 'Himachal Pradesh', 'Jammu & Kashmir', 'Jharkhand', 'Karnataka', 'Kerala', 'Lakshadweep', 'Madhya Pradesh', 'Manipur', 'Mizoram', 'Nagaland', 'Odisha', 'Puducherry', 'Punjab', 'Tamil Nadu', 'Telangana', 'Tripura', 'Uttarakhand', 'West Bengal', 'All India'] Length: 26 Benef:['9,758', '1,054', '1,822', '8,656', '4,459', '3,111', '3,486', '2,914', '1,139', '2,687', '36,888', '7,070', '180', '6,665', '291', '220', '864', '22,579', '183', '1,882', '7,628', '10,352', '1,211', '1,579', '11,588', '1,48,266'] Len: 26\n",
      "Reading File: PIB1690120.pdf\n",
      "State: ['A & N Islands', 'Andhra Pradesh', 'Arunachal Pradesh', 'Assam', 'Bihar', 'Chandigarh', 'Chhattisgarh', 'Dadra & Nagar Haveli', 'Daman & Diu', 'Delhi', 'Goa', 'Gujarat', 'Haryana', 'Himachal Pradesh', 'Jammu & Kashmir', 'Jharkhand', 'Karnataka', 'Kerala', 'Ladakh', 'Lakshadweep', 'Madhya Pradesh', 'Maharashtra', 'Manipur', 'Meghalaya', 'Mizoram', 'Nagaland', 'Odisha', 'Puducherry', 'Punjab', 'Rajasthan', 'Sikkim', 'Tamil Nadu', 'Telangana', 'Tripura', 'Uttar Pradesh', 'Uttarakhand', 'West Bengal', 'Miscellaneous'] Length: 38 Benef:['644', '58,495', '2,805', '7,418', '42,085', '469', '10,872', '114', '94', '12,441', '426', '17,581', '24,944', '5,049', '4,395', '8,824', '80,686', '23,855', '119', '369', '18,174', '30,247', '1111', '1037', '1091', '2,286', '55,138', '719', '5,567', '30,761', '350', '25,251', '69,405', '3,734', '22,644', '6,107', '42,093', '14,017'] Len: 38\n",
      "Reading File: PIB1690536.pdf\n",
      "State: ['Andhra Pradesh', 'Bihar', 'Chhattisgarh', 'Haryana', 'Himachal Pradesh', 'Jharkhand', 'Karnataka', 'Kerala', 'Ladakh', 'Madhya Pradesh', 'Maharashtra', 'Manipur', 'Meghalaya', 'Mizoram', 'Nagaland', 'Odisha', 'Punjab', 'Sikkim', 'Tamil Nadu', 'West Bengal', 'Uttarakhand', 'Chhattisgarh', 'Rajasthan', 'Delhi', 'Karnataka', 'West Bengal'] Length: 26 Benef:['22,548', '38', '5,219', '1,192', '45', '2,779', '36,211', '262', '108', '6731', '16,261', '334', '311', '417', '447', '7,891', '2,003', '80', '6,834', '2,296', '4', '5', '6', '1', '1', '1'] Len: 26\n",
      "Reading File: PIB1690997.pdf\n",
      "State: ['A & N Islands', 'Andhra Pradesh', 'Arunachal Pradesh', 'Assam', 'Bihar', 'Chandigarh', 'Chhattisgarh', 'Dadra & Nagar Haveli', 'Delhi', 'Gujarat', 'Haryana', 'Himachal Pradesh', 'Jammu & Kashmir', 'Karnataka', 'Kerala', 'Madhya Pradesh', 'Meghalaya', 'Mizoram', 'Nagaland', 'Odisha', 'Punjab', 'Sikkim', 'Tamil Nadu', 'Telangana', 'Tripura', 'Uttarakhand', 'West Bengal', 'Rajasthan'] Length: 28 Benef:['388', '15,507', '1,518', '2,921', '15,798', '284', '5,788', '59', '5,128', '12,212', '15,491', '695', '2,408', '16,103', '10,266', '7,117', '420', '1,029', '199', '26,558', '4,832', '194', '6,497', '26,441', '5,538', '2,003', '7,187', '1'] Len: 28\n",
      "Reading File: PIB1691304.pdf\n",
      "State: ['A & N Islands', 'Andhra Pradesh', 'Arunachal Pradesh', 'Assam', 'Bihar', 'Chandigarh', 'Chhattisgarh', 'Dadra & Nagar Haveli', 'Daman & Diu', 'Delhi', 'Goa', 'Gujarat', 'Haryana', 'Himachal Pradesh', 'Jammu & Kashmir', 'Jharkhand', 'Karnataka', 'Kerala', 'Ladakh', 'Lakshadweep', 'Madhya Pradesh', 'Maharashtra', 'Manipur', 'Meghalaya', 'Mizoram', 'Nagaland', 'Odisha', 'Puducherry', 'Punjab', 'Rajasthan', 'Sikkim', 'Tamil Nadu', 'Telangana', 'Tripura', 'Uttar Pradesh', 'Uttarakhand', 'West Bengal', 'Miscellaneous'] Length: 38 Benef:['1466', '1,27,726', '5,782', '13,654', '63,620', '1157', '22,171', '238', '94', '18,844', '946', '42,395', '62,142', '8,817', '9,850', '14,769', '1,82,503', '46,970', '401', '552', '38,278', '70,032', '1923', '2078', '3657', '3,443', '1,21,004', '1097', '21,230', '37,887', '960', '46,825', '1,02,724', '14,252', '59,473', '10,298', '80,542', '32,297'] Len: 38\n",
      "Reading File: PIB1691661.pdf\n",
      "State: ['A & N Islands', 'Andhra Pradesh', 'Arunachal Pradesh', 'Bihar', 'Chandigarh', 'Chhattisgarh', 'Dadra & Nagar Haveli', 'Daman & Diu', 'Delhi', 'Goa', 'Gujarat', 'Haryana', 'Himachal Pradesh', 'Jammu & Kashmir', 'Karnataka', 'Kerala', 'Ladakh', 'Lakshadweep', 'Maharashtra', 'Manipur', 'Meghalaya', 'Mizoram', 'Odisha', 'Puducherry', 'Punjab', 'Rajasthan', 'Tamil Nadu', 'All India'] Length: 28 Benef:['530', '11,562', '525', '12,165', '345', '8,138', '83', '189', '6,111', '615', '22,063', '9,188', '3,935', '1,820', '3,669', '6,012', '157', '81', '21,751', '396', '158', '322', '14,892', '381', '8,968', '7,900', '4,642', '1,46,598'] Len: 28\n"
     ]
    }
   ],
   "source": [
    "for file in vaccFiles:\n",
    "    if file != \"PIB1689167.pdf\":\n",
    "        state = []\n",
    "        Benef = []\n",
    "        print(f'Reading File: {file}')\n",
    "        pdfText = readTextFromPDF(file)\n",
    "        stateCount = 0\n",
    "        stateFound = False\n",
    "        for line in pdfText.split('\\n'):\n",
    "            if stateCount > 0 and line.strip() not in states:\n",
    "                try:\n",
    "                    int(\"\".join(line.strip().split(\",\")))\n",
    "                    stateCount -=1\n",
    "                    Benef.append(line.strip())\n",
    "                except:\n",
    "                    #print(f\"Got String which can't convert to int:{line.strip()}\")\n",
    "                    continue\n",
    "            elif line.strip() in states:\n",
    "                stateFound = True\n",
    "                stateCount +=1\n",
    "                state.append(line.strip())\n",
    "        print(f\"State: {state} Length: {len(state)} Benef:{Benef} Len: {len(Benef)}\")\n",
    "    else:\n",
    "        print(\"PIB1689167.pdf need to be treated differently\")"
   ]
  },
  {
   "cell_type": "code",
   "execution_count": 51,
   "metadata": {},
   "outputs": [
    {
     "data": {
      "text/plain": [
       "'Ministry of Health and Family Welfare\\n\\nUpdate on COVID-19 Vaccination\\n\\nTotal number of vaccinated healthcare workers\\n\\nacross the country more than 3.81lakh\\n\\nNo case of serious/severe of AEFI reported\\n\\nPosted On: 18 JAN 2021 7:50PM by PIB Delhi\\n\\nThe third day of the massive countrywide COVID-19 vaccination program was also conducted successfully.\\nTotal of 3,81,305 beneficiaries have been vaccinated till today through 7,704 sessions, as per the provisional\\nreport.\\n1,48,266 beneficiaries were vaccinated till 5 pm today, the third day of nationwide COVID19 vaccination.\\nFinal reports would be completed for the day by late tonight.\\n\\nS. No.\\n1\\n2\\n3\\n4\\n5\\n6\\n7\\n8\\n9\\n10\\n11\\n12\\n13\\n14\\n15\\n16\\n17\\n18\\n19\\n\\nState/UT\\nAndhra Pradesh\\nArunachal Pradesh\\nAssam\\nBihar\\nChhattisgarh\\nDelhi\\nHaryana\\nHimachal Pradesh\\nJammu & Kashmir\\nJharkhand\\nKarnataka\\nKerala\\nLakshadweep\\nMadhya Pradesh\\nManipur\\nMizoram\\nNagaland\\nOdisha\\nPuducherry\\n\\nBeneficiaries vaccinated (provisional)\\n9,758\\n1,054\\n1,822\\n8,656\\n4,459\\n3,111\\n3,486\\n2,914\\n1,139\\n2,687\\n36,888\\n7,070\\n180\\n6,665\\n291\\n220\\n864\\n22,579\\n183\\n\\n\\xa0\\n\\x0c20\\n21\\n22\\n23\\n24\\n25\\n\\nPunjab\\nTamil Nadu\\nTelangana\\nTripura\\nUttarakhand\\nWest Bengal\\nAll India\\n\\n1,882\\n7,628\\n10,352\\n1,211\\n1,579\\n11,588\\n1,48,266\\n\\nAn Adverse Event Following Immunization (AEFI) is any unexpected medical occurrence which follows\\nimmunization. It may or may not be related to the vaccine or vaccination process.\\n580 cases of AEFI have been reported so far. Out of these, seven have required hospitalization. Of the three\\ncases reported from Delhi, two have been discharged whereas once case with reporting fainting is under\\nobservation at Max Hospital, Patparganj.  The reported case of AEFI in Uttarakhand is stable and under\\nobservation at AIIMS, Rishikesh.  In Chhattisgarh, one person is under observation at the Govt. Medical\\nCollege, Rajnandgaon. Of the two cases of AEFI in Karnataka, one is under observation at District Hospital,\\nChitradurga and the second person is under observation at General Hospital, Challakere, Chitradurga.\\nOf the two deaths reported, death of the 52 yr male from Moradabad, UP (who was vaccinated on 16th Jan\\n2021 and died on evening of 17th Jan 2021) is not related to vaccination as per the post mortem report.\\nDeath was caused due to cardiopulmonary disease.\\nThe second death was of a male person aged 43 years, resident of Bellary, Karnataka. He was vaccinated on\\n16 Jan, 2021 and died today. The cause of death is anterior wall infarction with Cardiopulmonary failure. The\\npost mortem is scheduled today at Vijayanagar Institute of Medical Sciences, Bellary, Karnataka.\\n\\n****\\n\\nMV\\n\\n(Release ID: 1689778)\\n\\n\\xa0\\n\\xa0\\n\\xa0\\n\\xa0\\n\\x0c'"
      ]
     },
     "execution_count": 51,
     "metadata": {},
     "output_type": "execute_result"
    }
   ],
   "source": [
    "readTextFromPDF('PIB1689778.pdf')"
   ]
  }
 ],
 "metadata": {
  "kernelspec": {
   "display_name": "Python [conda env:preReqML] *",
   "language": "python",
   "name": "conda-env-preReqML-py"
  },
  "language_info": {
   "codemirror_mode": {
    "name": "ipython",
    "version": 3
   },
   "file_extension": ".py",
   "mimetype": "text/x-python",
   "name": "python",
   "nbconvert_exporter": "python",
   "pygments_lexer": "ipython3",
   "version": "3.8.5"
  }
 },
 "nbformat": 4,
 "nbformat_minor": 4
}
