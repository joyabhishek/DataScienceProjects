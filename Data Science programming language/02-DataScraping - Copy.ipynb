{
 "cells": [
  {
   "cell_type": "code",
   "execution_count": 26,
   "metadata": {
    "slideshow": {
     "slide_type": "skip"
    }
   },
   "outputs": [],
   "source": [
    "## all imports\n",
    "from IPython.display import HTML\n",
    "import pandas as pd\n",
    "import numpy as np\n",
    "import urllib\n",
    "import pickle\n",
    "import bs4\n",
    "import time\n",
    "import re\n",
    "import matplotlib\n",
    "import matplotlib.pyplot as plt\n",
    "%matplotlib inline\n"
   ]
  },
  {
   "cell_type": "code",
   "execution_count": 2,
   "metadata": {
    "slideshow": {
     "slide_type": "slide"
    }
   },
   "outputs": [],
   "source": [
    "# Fixed url for job postings containing data scientist\n",
    "url = 'http://www.indeed.com/jobs?q=data+scientist&l='\n",
    "# read the website\n",
    "source = urllib.request.urlopen(url).read()\n",
    "# parse html code\n",
    "bs_tree = bs4.BeautifulSoup(source)"
   ]
  },
  {
   "cell_type": "code",
   "execution_count": 3,
   "metadata": {},
   "outputs": [
    {
     "data": {
      "text/plain": [
       "[<div id=\"searchCountPages\">\n",
       "                     Page 1 of 11,398 jobs</div>]"
      ]
     },
     "execution_count": 3,
     "metadata": {},
     "output_type": "execute_result"
    }
   ],
   "source": [
    "bs_tree.findAll(id = 'searchCountPages')"
   ]
  },
  {
   "cell_type": "code",
   "execution_count": 4,
   "metadata": {
    "scrolled": true
   },
   "outputs": [
    {
     "data": {
      "text/plain": [
       "11398"
      ]
     },
     "execution_count": 4,
     "metadata": {},
     "output_type": "execute_result"
    }
   ],
   "source": [
    "int(\"\".join([i for i in bs_tree.find(id = 'searchCountPages').contents[0].strip().split()[3].split(',')]))"
   ]
  },
  {
   "cell_type": "code",
   "execution_count": 5,
   "metadata": {},
   "outputs": [],
   "source": [
    "job_count = int(\"\".join([i for i in bs_tree.find(id = 'searchCountPages').contents[0].strip().split()[3].split(',')]))"
   ]
  },
  {
   "cell_type": "code",
   "execution_count": 6,
   "metadata": {},
   "outputs": [
    {
     "data": {
      "text/plain": [
       "11398"
      ]
     },
     "execution_count": 6,
     "metadata": {},
     "output_type": "execute_result"
    }
   ],
   "source": [
    "job_count"
   ]
  },
  {
   "cell_type": "code",
   "execution_count": 7,
   "metadata": {},
   "outputs": [],
   "source": [
    "indeedHomeUrl = 'https://www.indeed.com/viewjob?'"
   ]
  },
  {
   "cell_type": "code",
   "execution_count": 8,
   "metadata": {},
   "outputs": [],
   "source": [
    "url = 'http://www.indeed.com/jobs?q=data+scientist&start=0'\n",
    "html_page = urllib.request.urlopen(url).read() \n",
    "bs_tree = bs4.BeautifulSoup(html_page)\n",
    "a = [indeedHomeUrl + i.get('href')[8:] for i in bs_tree.findAll('a') if i.get('class') is not None and 'jobtitle' in i.get('class') and i.get('href')[:7] == \"/rc/clk\"]"
   ]
  },
  {
   "cell_type": "code",
   "execution_count": 9,
   "metadata": {},
   "outputs": [],
   "source": [
    "b = [indeedHomeUrl + i.get('href')[8:] for i in bs_tree.findAll('a') if i.get('class') is not None and 'jobtitle' in i.get('class') and i.get('href')[:7] == \"/rc/clk\"]"
   ]
  },
  {
   "cell_type": "code",
   "execution_count": 10,
   "metadata": {},
   "outputs": [
    {
     "data": {
      "text/plain": [
       "['https://www.indeed.com/viewjob?jk=bd2d32a1e6455d95&fccid=734cb5a01ee60f80&vjs=3',\n",
       " 'https://www.indeed.com/viewjob?jk=d7c01531f284eae6&fccid=d723225da214c842&vjs=3',\n",
       " 'https://www.indeed.com/viewjob?jk=28fa52802a412b68&fccid=f1374be6a45f4b8a&vjs=3',\n",
       " 'https://www.indeed.com/viewjob?jk=72faf98781d003d1&fccid=fe2d21eef233e94a&vjs=3',\n",
       " 'https://www.indeed.com/viewjob?jk=b05c3418bd470d33&fccid=25b5166547bbf543&vjs=3',\n",
       " 'https://www.indeed.com/viewjob?jk=466f2e0217407187&fccid=5570e8fef528b267&vjs=3',\n",
       " 'https://www.indeed.com/viewjob?jk=ae16135f6b70d18c&fccid=510aa29fcf8f87d9&vjs=3',\n",
       " 'https://www.indeed.com/viewjob?jk=3d5724ad39c214bb&fccid=9993304a3df214bf&vjs=3',\n",
       " 'https://www.indeed.com/viewjob?jk=4f803d58e9f7e8c6&fccid=d6ef41e202aa2c0b&vjs=3',\n",
       " 'https://www.indeed.com/viewjob?jk=60ca99bf7f8b5564&fccid=6dd2b85b361af592&vjs=3',\n",
       " 'https://www.indeed.com/viewjob?jk=cbe04dd42f334a0b&fccid=6374759aed463ee1&vjs=3']"
      ]
     },
     "execution_count": 10,
     "metadata": {},
     "output_type": "execute_result"
    }
   ],
   "source": [
    "a[:]"
   ]
  },
  {
   "cell_type": "code",
   "execution_count": 14,
   "metadata": {
    "slideshow": {
     "slide_type": "slide"
    }
   },
   "outputs": [
    {
     "name": "stdout",
     "output_type": "stream",
     "text": [
      "Num Pages: 760\n",
      "Num Page: 0\n",
      "URL: http://www.indeed.com/jobs?q=data+scientist&start=0\n",
      "Num Page: 1\n",
      "URL: http://www.indeed.com/jobs?q=data+scientist&start=10\n",
      "Num Page: 2\n",
      "URL: http://www.indeed.com/jobs?q=data+scientist&start=20\n",
      "Num Page: 3\n",
      "URL: http://www.indeed.com/jobs?q=data+scientist&start=30\n",
      "Num Page: 4\n",
      "URL: http://www.indeed.com/jobs?q=data+scientist&start=40\n",
      "Num Page: 5\n",
      "URL: http://www.indeed.com/jobs?q=data+scientist&start=50\n",
      "Num Page: 6\n",
      "URL: http://www.indeed.com/jobs?q=data+scientist&start=60\n",
      "Num Page: 7\n",
      "URL: http://www.indeed.com/jobs?q=data+scientist&start=70\n",
      "Num Page: 8\n",
      "URL: http://www.indeed.com/jobs?q=data+scientist&start=80\n",
      "Num Page: 9\n",
      "URL: http://www.indeed.com/jobs?q=data+scientist&start=90\n",
      "Num Page: 10\n",
      "URL: http://www.indeed.com/jobs?q=data+scientist&start=100\n",
      "Num Page: 11\n",
      "URL: http://www.indeed.com/jobs?q=data+scientist&start=110\n",
      "Num Page: 12\n",
      "URL: http://www.indeed.com/jobs?q=data+scientist&start=120\n",
      "Num Page: 13\n",
      "URL: http://www.indeed.com/jobs?q=data+scientist&start=130\n",
      "Num Page: 14\n",
      "URL: http://www.indeed.com/jobs?q=data+scientist&start=140\n",
      "Num Page: 15\n",
      "URL: http://www.indeed.com/jobs?q=data+scientist&start=150\n",
      "Num Page: 16\n",
      "URL: http://www.indeed.com/jobs?q=data+scientist&start=160\n",
      "Num Page: 17\n",
      "URL: http://www.indeed.com/jobs?q=data+scientist&start=170\n",
      "Num Page: 18\n",
      "URL: http://www.indeed.com/jobs?q=data+scientist&start=180\n",
      "Num Page: 19\n",
      "URL: http://www.indeed.com/jobs?q=data+scientist&start=190\n",
      "We found a lot of jobs:  230\n"
     ]
    }
   ],
   "source": [
    "# The website is only listing 10 results per page, \n",
    "# so we need to scrape them page after page\n",
    "num_pages = int(np.ceil(job_count/15.0))\n",
    "print(f\"Num Pages: {num_pages}\")\n",
    "base_url = 'http://www.indeed.com'\n",
    "job_links = []\n",
    "for i in range(20): #do range(num_pages) if you want them all\n",
    "    print(f\"Num Page: {i}\")\n",
    "    url = 'http://www.indeed.com/jobs?q=data+scientist&start=' + str(i*10)\n",
    "    print(f\"URL: {url}\")\n",
    "    html_page = urllib.request.urlopen(url).read() \n",
    "    bs_tree = bs4.BeautifulSoup(html_page)\n",
    "    pageJobLinks = [indeedHomeUrl + i.get('href')[8:] for i in bs_tree.findAll('a') if i.get('class') is not None and 'jobtitle' in i.get('class') and i.get('href')[:7] == \"/rc/clk\"]\n",
    "    for link in pageJobLinks:\n",
    "        job_links.append(link)\n",
    "\n",
    "    time.sleep(1)\n",
    "\n",
    "print( \"We found a lot of jobs: \", len(job_links))"
   ]
  },
  {
   "cell_type": "code",
   "execution_count": 15,
   "metadata": {
    "slideshow": {
     "slide_type": "-"
    }
   },
   "outputs": [],
   "source": [
    "# Save the scraped links\n",
    "with open('scraped_links.pkl', 'wb') as f:\n",
    "    pickle.dump(job_links, f)\n",
    "    \n",
    "# Read canned scraped links\n",
    "with open('scraped_links.pkl', 'rb') as f:\n",
    "    job_links = pickle.load(f)    "
   ]
  },
  {
   "cell_type": "code",
   "execution_count": 16,
   "metadata": {},
   "outputs": [
    {
     "name": "stdout",
     "output_type": "stream",
     "text": [
      "https://www.indeed.com/viewjob?jk=bd2d32a1e6455d95&fccid=734cb5a01ee60f80&vjs=3\n",
      "https://www.indeed.com/viewjob?jk=d7c01531f284eae6&fccid=d723225da214c842&vjs=3\n",
      "https://www.indeed.com/viewjob?jk=28fa52802a412b68&fccid=f1374be6a45f4b8a&vjs=3\n",
      "https://www.indeed.com/viewjob?jk=72faf98781d003d1&fccid=fe2d21eef233e94a&vjs=3\n",
      "https://www.indeed.com/viewjob?jk=b05c3418bd470d33&fccid=25b5166547bbf543&vjs=3\n",
      "https://www.indeed.com/viewjob?jk=466f2e0217407187&fccid=5570e8fef528b267&vjs=3\n",
      "https://www.indeed.com/viewjob?jk=ae16135f6b70d18c&fccid=510aa29fcf8f87d9&vjs=3\n",
      "https://www.indeed.com/viewjob?jk=3d5724ad39c214bb&fccid=9993304a3df214bf&vjs=3\n",
      "https://www.indeed.com/viewjob?jk=4f803d58e9f7e8c6&fccid=d6ef41e202aa2c0b&vjs=3\n",
      "https://www.indeed.com/viewjob?jk=60ca99bf7f8b5564&fccid=6dd2b85b361af592&vjs=3\n",
      "https://www.indeed.com/viewjob?jk=cbe04dd42f334a0b&fccid=6374759aed463ee1&vjs=3\n",
      "https://www.indeed.com/viewjob?jk=3d5724ad39c214bb&fccid=9993304a3df214bf&vjs=3\n",
      "https://www.indeed.com/viewjob?jk=4f803d58e9f7e8c6&fccid=d6ef41e202aa2c0b&vjs=3\n",
      "https://www.indeed.com/viewjob?jk=60ca99bf7f8b5564&fccid=6dd2b85b361af592&vjs=3\n",
      "https://www.indeed.com/viewjob?jk=cbe04dd42f334a0b&fccid=6374759aed463ee1&vjs=3\n",
      "https://www.indeed.com/viewjob?jk=9603caa0aa83ac01&fccid=fe7f1e13ed267208&vjs=3\n",
      "https://www.indeed.com/viewjob?jk=49319712d494235d&fccid=87c468e33547e102&vjs=3\n",
      "https://www.indeed.com/viewjob?jk=6eafd949c2435c31&fccid=062aeac481a6848e&vjs=3\n",
      "https://www.indeed.com/viewjob?jk=8c00fdf8f7d1c3af&fccid=221702469bec27b3&vjs=3\n",
      "https://www.indeed.com/viewjob?jk=3b966e840debd72f&fccid=7f0218b11da83056&vjs=3\n",
      "https://www.indeed.com/viewjob?jk=857aae370c511f0d&fccid=745cbfb7f662e21f&vjs=3\n",
      "https://www.indeed.com/viewjob?jk=6a5d4885108930d6&fccid=116680a29a847a70&vjs=3\n",
      "https://www.indeed.com/viewjob?jk=dc3e7796faa749e4&fccid=a9cde1a6d2c73a1e&vjs=3\n",
      "https://www.indeed.com/viewjob?jk=c9e5cec189589116&fccid=b4048be2884af072&vjs=3\n",
      "https://www.indeed.com/viewjob?jk=e9523d517bfdaa57&fccid=b03eba62d4adedf2&vjs=3\n",
      "https://www.indeed.com/viewjob?jk=be10d00e081815b1&fccid=a2b1f7c3f77a78d6&vjs=3\n",
      "https://www.indeed.com/viewjob?jk=9a105aa2f0eef971&fccid=6e3ab497868f8cc6&vjs=3\n",
      "https://www.indeed.com/viewjob?jk=e1884b2562c0e5f3&fccid=673eb17ad844c967&vjs=3\n",
      "https://www.indeed.com/viewjob?jk=85c3d4fc88c9e7c3&fccid=997247686a12385e&vjs=3\n",
      "https://www.indeed.com/viewjob?jk=0216e8e73351f52b&fccid=003656df63cede32&vjs=3\n",
      "https://www.indeed.com/viewjob?jk=4d5a0b1e73bd8774&fccid=a60af7a54a26eb04&vjs=3\n",
      "https://www.indeed.com/viewjob?jk=8d1aa6c43a7c8651&fccid=3d5f13be00eee4ac&vjs=3\n",
      "https://www.indeed.com/viewjob?jk=dad4cad66e8cc0c8&fccid=b6049a77e7af1391&vjs=3\n",
      "https://www.indeed.com/viewjob?jk=b6506065408f4f15&fccid=0ce02a3e84d031c6&vjs=3\n",
      "https://www.indeed.com/viewjob?jk=3f10f9bc4963ddc3&fccid=f5b1aded7e2e3757&vjs=3\n",
      "https://www.indeed.com/viewjob?jk=37454f93320090e7&fccid=2cd10564780b27e2&vjs=3\n",
      "https://www.indeed.com/viewjob?jk=851d2bad51444632&fccid=f0345de219ca6990&vjs=3\n",
      "https://www.indeed.com/viewjob?jk=f5cc0763f11ef17c&fccid=18d58239dbfc6097&vjs=3\n",
      "https://www.indeed.com/viewjob?jk=1fc98b8be83cab89&fccid=43014b1412e0a7b6&vjs=3\n",
      "https://www.indeed.com/viewjob?jk=7a42f95c614210ad&fccid=a41cf1afbad67fa7&vjs=3\n",
      "https://www.indeed.com/viewjob?jk=18959dfa3430e457&fccid=9e3eaa6f1988a84e&vjs=3\n",
      "https://www.indeed.com/viewjob?jk=6720cf1c03a1c426&fccid=2c23f29fcd5c78da&vjs=3\n",
      "https://www.indeed.com/viewjob?jk=7e41b7c3364fc870&fccid=01fd1f2f239c15f4&vjs=3\n",
      "https://www.indeed.com/viewjob?jk=7cffaa4489ba0d7e&fccid=06206ab329e0eb22&vjs=3\n",
      "https://www.indeed.com/viewjob?jk=8dd669bfaa2d8362&fccid=4925e167fdc076db&vjs=3\n",
      "https://www.indeed.com/viewjob?jk=0fe301d69539f491&fccid=b6add0e6a71f1008&vjs=3\n",
      "https://www.indeed.com/viewjob?jk=35f5e2d564973d7a&fccid=820491f872c24007&vjs=3\n",
      "https://www.indeed.com/viewjob?jk=be5d48e62c24ab15&fccid=9e215d88a6b33622&vjs=3\n",
      "https://www.indeed.com/viewjob?jk=3fdcf476f1122876&fccid=68d0e0954a811351&vjs=3\n",
      "https://www.indeed.com/viewjob?jk=f5b76f375746394d&fccid=aaf3b433897ea465&vjs=3\n",
      "https://www.indeed.com/viewjob?jk=626f023a761899bf&fccid=0555014e7bce64c3&vjs=3\n",
      "https://www.indeed.com/viewjob?jk=b221eecc04dda87e&fccid=b24ecf80d41ffd3f&vjs=3\n",
      "https://www.indeed.com/viewjob?jk=826b283823d0f14d&fccid=81be80e07f930e93&vjs=3\n",
      "https://www.indeed.com/viewjob?jk=e24dbcd10f3da74c&fccid=fff3f08471f04131&vjs=3\n",
      "https://www.indeed.com/viewjob?jk=eb14263869031265&fccid=ca6dcd2772155db0&vjs=3\n",
      "https://www.indeed.com/viewjob?jk=10c7a97b465adad0&fccid=f522cbfb7bc69d67&vjs=3\n",
      "https://www.indeed.com/viewjob?jk=bad1025f6b37ee88&fccid=873988f60c379d52&vjs=3\n",
      "https://www.indeed.com/viewjob?jk=33b8c63436b9650b&fccid=797bf4c25b91cfa2&vjs=3\n",
      "https://www.indeed.com/viewjob?jk=3e449cbe4913ebf1&fccid=425a85f5eb0064c9&vjs=3\n",
      "https://www.indeed.com/viewjob?jk=1ae1dc2e50a985ff&fccid=17d397c17f760b21&vjs=3\n",
      "https://www.indeed.com/viewjob?jk=c5142af29370405f&fccid=11f2ca9fb7278374&vjs=3\n",
      "https://www.indeed.com/viewjob?jk=27dd73e90473d37e&fccid=7806ef38d7df9f0e&vjs=3\n",
      "https://www.indeed.com/viewjob?jk=e52fecc33d1899e5&fccid=f5a575e091baf2ca&vjs=3\n",
      "https://www.indeed.com/viewjob?jk=16a7014a6c745e0d&fccid=796b5a2c2fc5984d&vjs=3\n",
      "https://www.indeed.com/viewjob?jk=87d3e9b7acfa6f08&fccid=ae5bfc395c530fbc&vjs=3\n",
      "https://www.indeed.com/viewjob?jk=c674617e13c668b7&fccid=66209e67d8000673&vjs=3\n",
      "https://www.indeed.com/viewjob?jk=00ba1a22ba67ffd2&fccid=d978045561911d24&vjs=3\n",
      "https://www.indeed.com/viewjob?jk=97462c5eeef6e61d&fccid=dd09fe3b43125016&vjs=3\n",
      "https://www.indeed.com/viewjob?jk=24bfd6ebadf528b9&fccid=54814a798e8f0d8b&vjs=3\n",
      "https://www.indeed.com/viewjob?jk=35f5e2d564973d7a&fccid=820491f872c24007&vjs=3\n",
      "https://www.indeed.com/viewjob?jk=be5d48e62c24ab15&fccid=9e215d88a6b33622&vjs=3\n",
      "https://www.indeed.com/viewjob?jk=3fdcf476f1122876&fccid=68d0e0954a811351&vjs=3\n",
      "https://www.indeed.com/viewjob?jk=f5b76f375746394d&fccid=aaf3b433897ea465&vjs=3\n",
      "https://www.indeed.com/viewjob?jk=626f023a761899bf&fccid=0555014e7bce64c3&vjs=3\n",
      "https://www.indeed.com/viewjob?jk=b221eecc04dda87e&fccid=b24ecf80d41ffd3f&vjs=3\n",
      "https://www.indeed.com/viewjob?jk=826b283823d0f14d&fccid=81be80e07f930e93&vjs=3\n",
      "https://www.indeed.com/viewjob?jk=d492b2efea2071c5&fccid=2187d710fd27cd06&vjs=3\n",
      "https://www.indeed.com/viewjob?jk=b73f59883bcf8246&fccid=e5c4515812210aed&vjs=3\n",
      "https://www.indeed.com/viewjob?jk=089020481277ce3b&fccid=ff1322e69218a4d3&vjs=3\n",
      "https://www.indeed.com/viewjob?jk=01a76931ffcea945&fccid=734cb5a01ee60f80&vjs=3\n",
      "https://www.indeed.com/viewjob?jk=a8dda30b2b44e04d&fccid=d2310af9b3bb8585&vjs=3\n",
      "https://www.indeed.com/viewjob?jk=42be2b30c2cfbe28&fccid=5b974bd22fc9dfb9&vjs=3\n",
      "https://www.indeed.com/viewjob?jk=32959ac5b296049a&fccid=2df6a1e69a70a1e7&vjs=3\n",
      "https://www.indeed.com/viewjob?jk=f457fc001e851a82&fccid=0da3ed18c20a248d&vjs=3\n",
      "https://www.indeed.com/viewjob?jk=055b8c844173331a&fccid=1f506a83515ecb37&vjs=3\n",
      "https://www.indeed.com/viewjob?jk=11b3ac4e5c4c38a7&fccid=88f5eba43de70e76&vjs=3\n",
      "https://www.indeed.com/viewjob?jk=3ae0ac794755772a&fccid=a4e4e2eaf26690c9&vjs=3\n",
      "https://www.indeed.com/viewjob?jk=c04efb3a71fe4e15&fccid=a4ef73f14c8cec6f&vjs=3\n",
      "https://www.indeed.com/viewjob?jk=fb57d755a2b1f2e1&fccid=e82111c38842f8f2&vjs=3\n",
      "https://www.indeed.com/viewjob?jk=8545f34356f68671&fccid=f6190d5bfdd6f502&vjs=3\n",
      "https://www.indeed.com/viewjob?jk=d4eeddc53801a0ce&fccid=dc69f1de8e9fbbe9&vjs=3\n",
      "https://www.indeed.com/viewjob?jk=e0bab3b8c4b41aad&fccid=f53fad3b59883186&vjs=3\n",
      "https://www.indeed.com/viewjob?jk=d94ff0329b64167d&fccid=23f70fd35fc98264&vjs=3\n",
      "https://www.indeed.com/viewjob?jk=ba4b3bd9c0d30d4a&fccid=93a08feed319efa1&vjs=3\n",
      "https://www.indeed.com/viewjob?jk=9a4c82157715d9eb&fccid=ea25315ee9da22e5&vjs=3\n",
      "https://www.indeed.com/viewjob?jk=417f604f88751f76&fccid=6f49e88f14c18b75&vjs=3\n",
      "https://www.indeed.com/viewjob?jk=7bdeb8b75b6a6d80&fccid=3f721eb1d31080a6&vjs=3\n",
      "https://www.indeed.com/viewjob?jk=ecea286461fee2bc&fccid=66d394411dd2efad&vjs=3\n",
      "https://www.indeed.com/viewjob?cmp=CG%2FLA-Infrastructure-Inc.&ti=Internal+Data+Scientist&jk=fa041691905cfe42&fccid=f5d575a484b99538&vjs=3\n",
      "https://www.indeed.com/viewjob?jk=299c7ef879867ef4&fccid=126e3afd205caa95&vjs=3\n",
      "https://www.indeed.com/viewjob?jk=c0261a0a17b1d210&fccid=09abad886b83c501&vjs=3\n",
      "https://www.indeed.com/viewjob?jk=83d381f065430feb&fccid=7a3824693ee1074b&vjs=3\n",
      "https://www.indeed.com/viewjob?jk=c46e048669005193&fccid=a86e379b94638c7a&vjs=3\n",
      "https://www.indeed.com/viewjob?jk=7d2b790d1b5b751c&fccid=4376208985ead045&vjs=3\n",
      "https://www.indeed.com/viewjob?jk=1c4380354c6d3589&fccid=17f7c591b33e9dc5&vjs=3\n",
      "https://www.indeed.com/viewjob?jk=569c966037a1309c&fccid=dd3b0a1fc99fe359&vjs=3\n",
      "https://www.indeed.com/viewjob?jk=40b4fe6499314552&fccid=647578535675f915&vjs=3\n",
      "https://www.indeed.com/viewjob?jk=ea92d01dc4b67407&fccid=901a7fe7e6607d4f&vjs=3\n",
      "https://www.indeed.com/viewjob?jk=63ccd611a6af4e73&fccid=4dd0574d023dfcf1&vjs=3\n",
      "https://www.indeed.com/viewjob?jk=7ff4928ad38952c2&fccid=d6ef41e202aa2c0b&vjs=3\n",
      "https://www.indeed.com/viewjob?jk=e923cefea1795bcf&fccid=cfce80c78574089f&vjs=3\n",
      "https://www.indeed.com/viewjob?jk=5f2008986b0bc356&fccid=42f139d35fc5ecb9&vjs=3\n",
      "https://www.indeed.com/viewjob?jk=4a543c1a46fa7452&fccid=ab0ef6192557a06f&vjs=3\n",
      "https://www.indeed.com/viewjob?jk=9d833412d4e7c022&fccid=31bebfb78bc1f0f1&vjs=3\n",
      "https://www.indeed.com/viewjob?jk=93bff818164fface&fccid=c57da989524f65e7&vjs=3\n",
      "https://www.indeed.com/viewjob?jk=a1ec5dbd54be094f&fccid=734cb5a01ee60f80&vjs=3\n",
      "https://www.indeed.com/viewjob?jk=42a31491819df595&fccid=415eb13f4d2e2e41&vjs=3\n",
      "https://www.indeed.com/viewjob?jk=089bffaa89f8f10f&fccid=28dd3b780624bbf1&vjs=3\n",
      "https://www.indeed.com/viewjob?jk=44a295ff88a4b895&fccid=74869e36bf8410c1&vjs=3\n",
      "https://www.indeed.com/viewjob?jk=d1c66e9c7c103598&fccid=f031515c17652ecd&vjs=3\n",
      "https://www.indeed.com/viewjob?jk=148f2e5e7a652368&fccid=2721c1c2ba33c638&vjs=3\n",
      "https://www.indeed.com/viewjob?jk=16bbd169e209946b&fccid=30d246fbab8703db&vjs=3\n",
      "https://www.indeed.com/viewjob?jk=f072010305eb2e42&fccid=22b444291391d96f&vjs=3\n",
      "https://www.indeed.com/viewjob?jk=c83891ede59038bd&fccid=38eb72d608d80c79&vjs=3\n",
      "https://www.indeed.com/viewjob?jk=4a543c1a46fa7452&fccid=ab0ef6192557a06f&vjs=3\n",
      "https://www.indeed.com/viewjob?jk=569c966037a1309c&fccid=dd3b0a1fc99fe359&vjs=3\n",
      "https://www.indeed.com/viewjob?jk=fd5ac94335d067c8&fccid=2ae04b97d8829e58&vjs=3\n",
      "https://www.indeed.com/viewjob?jk=a8ae19173fcd1543&fccid=e2a2a5c0f4f84192&vjs=3\n",
      "https://www.indeed.com/viewjob?jk=d492b2efea2071c5&fccid=2187d710fd27cd06&vjs=3\n",
      "https://www.indeed.com/viewjob?jk=01a76931ffcea945&fccid=734cb5a01ee60f80&vjs=3\n",
      "https://www.indeed.com/viewjob?jk=83d381f065430feb&fccid=7a3824693ee1074b&vjs=3\n",
      "https://www.indeed.com/viewjob?jk=c0261a0a17b1d210&fccid=09abad886b83c501&vjs=3\n",
      "https://www.indeed.com/viewjob?jk=b0480fc39502098e&fccid=e6d4ba9e2cfe7902&vjs=3\n",
      "https://www.indeed.com/viewjob?jk=9246937bf2cd57c4&fccid=b90546797b186016&vjs=3\n",
      "https://www.indeed.com/viewjob?jk=203ccb833eb6caf8&fccid=aa78349c929d97f5&vjs=3\n",
      "https://www.indeed.com/viewjob?jk=2c17f394ae73099f&fccid=127ad7b1674e038f&vjs=3\n",
      "https://www.indeed.com/viewjob?jk=7bec2dafd6a8eccc&fccid=8fbd2fb43ca6132e&vjs=3\n",
      "https://www.indeed.com/viewjob?jk=b2ee20555521a2cc&fccid=a2b50ce8b9a3af90&vjs=3\n",
      "https://www.indeed.com/viewjob?jk=763eca2444cab164&fccid=6328b27691d3fdc3&vjs=3\n",
      "https://www.indeed.com/viewjob?jk=1c5334fb0253ac48&fccid=383d6a00135d5d1a&vjs=3\n",
      "https://www.indeed.com/viewjob?jk=adc370edc83c5179&fccid=9dd30dd046d9ac7a&vjs=3\n",
      "https://www.indeed.com/viewjob?jk=676320169729106f&fccid=46ccdeec8dbb29be&vjs=3\n",
      "https://www.indeed.com/viewjob?jk=d4ad49adfcdd60f8&fccid=9c94a9e856d520b3&vjs=3\n",
      "https://www.indeed.com/viewjob?jk=d9ff0d9b85deda4b&fccid=f287b6189e174df5&vjs=3\n",
      "https://www.indeed.com/viewjob?jk=a7351f06eb01a633&fccid=281afef2f966dcf1&vjs=3\n",
      "https://www.indeed.com/viewjob?jk=4d79df2ed1677955&fccid=0fc0821efa996180&vjs=3\n",
      "https://www.indeed.com/viewjob?jk=76e30f5a1c18f3f5&fccid=86e9be6ce380173e&vjs=3\n",
      "https://www.indeed.com/viewjob?jk=7e1cf2d0393b2a31&fccid=63203a4945c409fc&vjs=3\n",
      "https://www.indeed.com/viewjob?jk=392d9619129b84db&fccid=69e47485cd044190&vjs=3\n",
      "https://www.indeed.com/viewjob?jk=23f087c8f24a97c0&fccid=8e44d5d5e9a1ffae&vjs=3\n",
      "https://www.indeed.com/viewjob?jk=5ad57b023cae7304&fccid=83f90339b26ed209&vjs=3\n",
      "https://www.indeed.com/viewjob?jk=2f764c2d1b424bff&fccid=75a3a5a15b202084&vjs=3\n",
      "https://www.indeed.com/viewjob?jk=94bb5e4b8a02353b&fccid=c3ad0b9431cbc81b&vjs=3\n",
      "https://www.indeed.com/viewjob?jk=40e460aa02551977&fccid=05b7861dd2e482e4&vjs=3\n",
      "https://www.indeed.com/viewjob?jk=9db1435e593935f8&fccid=9e399301940ed66e&vjs=3\n",
      "https://www.indeed.com/viewjob?jk=11fce00384c95419&fccid=1639254ea84748b5&vjs=3\n",
      "https://www.indeed.com/viewjob?jk=9000c61472c815e7&fccid=402a1c36c3f1508f&vjs=3\n",
      "https://www.indeed.com/viewjob?jk=b0fea7a51c0d01ce&fccid=b4048be2884af072&vjs=3\n",
      "https://www.indeed.com/viewjob?jk=10eb2f124884fdd9&fccid=4d5d694743c295fc&vjs=3\n",
      "https://www.indeed.com/viewjob?jk=40a10618c4c02589&fccid=82e58e9861d48566&vjs=3\n",
      "https://www.indeed.com/viewjob?jk=3ba7af5869e344ad&fccid=4457a53b03f68c1d&vjs=3\n",
      "https://www.indeed.com/viewjob?jk=96545c9dd85014a5&fccid=eda0e4b7a6d34320&vjs=3\n",
      "https://www.indeed.com/viewjob?jk=fad50394377367fa&fccid=b4323e7f83d6438d&vjs=3\n",
      "https://www.indeed.com/viewjob?jk=be985c2e7e84ac21&fccid=750bb2e27e97e3c1&vjs=3\n",
      "https://www.indeed.com/viewjob?jk=d9d47c56bea5b79f&fccid=6576e7250aa78c3c&vjs=3\n",
      "https://www.indeed.com/viewjob?jk=cd2199f2ff54c585&fccid=86e9be6ce380173e&vjs=3\n",
      "https://www.indeed.com/viewjob?jk=9ec3e4e788ee6cff&fccid=0bcea91e2670d30b&vjs=3\n",
      "https://www.indeed.com/viewjob?jk=bda528ea3288de6f&fccid=1639254ea84748b5&vjs=3\n",
      "https://www.indeed.com/viewjob?jk=1636faa0308fd08f&fccid=1577085fc2290983&vjs=3\n",
      "https://www.indeed.com/viewjob?jk=16bbd169e209946b&fccid=30d246fbab8703db&vjs=3\n",
      "https://www.indeed.com/viewjob?jk=c89d57cbc70ba759&fccid=4ffdd90de5b0ef8f&vjs=3\n",
      "https://www.indeed.com/viewjob?jk=cc439a153121af18&fccid=734cb5a01ee60f80&vjs=3\n",
      "https://www.indeed.com/viewjob?jk=b9d030713d280fa4&fccid=f334737e3fd6818e&vjs=3\n",
      "https://www.indeed.com/viewjob?jk=1a061c67edb393bd&fccid=7136762d065a5ad7&vjs=3\n",
      "https://www.indeed.com/viewjob?jk=cae371ba72637647&fccid=ab1f45b81c4d4c99&vjs=3\n",
      "https://www.indeed.com/viewjob?jk=b04bdcc386946cea&fccid=a781c7193d5280a1&vjs=3\n",
      "https://www.indeed.com/viewjob?jk=783d96ad0424e83e&fccid=14ffc924195e31e2&vjs=3\n",
      "https://www.indeed.com/viewjob?jk=35a12f4d718a1ba7&fccid=8e62baf61c1eb713&vjs=3\n",
      "https://www.indeed.com/viewjob?jk=b6e4fc84c7d476ea&fccid=1b50fcfb150b1b48&vjs=3\n",
      "https://www.indeed.com/viewjob?jk=9766ebd121b17015&fccid=c47fcd10693da3cc&vjs=3\n",
      "https://www.indeed.com/viewjob?jk=7a9b5f6fcb9b7c69&fccid=026c9ee89f8bd7f6&vjs=3\n",
      "https://www.indeed.com/viewjob?jk=d639e32ea6a2425d&fccid=b53218579f8cf88c&vjs=3\n",
      "https://www.indeed.com/viewjob?jk=9f30dd5b6bcb4ff7&fccid=b1b72af5cf602cb5&vjs=3\n",
      "https://www.indeed.com/viewjob?jk=5a672016126e4f4f&fccid=90522bc4da128705&vjs=3\n",
      "https://www.indeed.com/viewjob?jk=9a3bfdf0b028d02d&fccid=42d9053e3b5c3114&vjs=3\n",
      "https://www.indeed.com/viewjob?jk=0c53f3aa118ac317&fccid=9f156dd45bd33047&vjs=3\n",
      "https://www.indeed.com/viewjob?jk=299c7ef879867ef4&fccid=126e3afd205caa95&vjs=3\n",
      "https://www.indeed.com/viewjob?jk=550d6627546da0f8&fccid=3e263cf17592f3f5&vjs=3\n",
      "https://www.indeed.com/viewjob?jk=72f0e3a5889212e2&fccid=aeb15e43a6800b9d&vjs=3\n",
      "https://www.indeed.com/viewjob?jk=63ccd611a6af4e73&fccid=4dd0574d023dfcf1&vjs=3\n",
      "https://www.indeed.com/viewjob?jk=34f2716a7f93c330&fccid=ed2347c09522ed5a&vjs=3\n",
      "https://www.indeed.com/viewjob?jk=1c4380354c6d3589&fccid=17f7c591b33e9dc5&vjs=3\n",
      "https://www.indeed.com/viewjob?jk=ea92d01dc4b67407&fccid=901a7fe7e6607d4f&vjs=3\n",
      "https://www.indeed.com/viewjob?jk=316a867bc0cfe02a&fccid=fe2d21eef233e94a&vjs=3\n",
      "https://www.indeed.com/viewjob?jk=93bff818164fface&fccid=c57da989524f65e7&vjs=3\n",
      "https://www.indeed.com/viewjob?jk=a82713f8ab1db8b6&fccid=5386281035076fdf&vjs=3\n",
      "https://www.indeed.com/viewjob?jk=dc4ba33065428de0&fccid=f3a36f726f745c17&vjs=3\n",
      "https://www.indeed.com/viewjob?jk=1128b8425267658e&fccid=8ab8d709d9da5e7f&vjs=3\n",
      "https://www.indeed.com/viewjob?jk=4e846cb2389f67fc&fccid=9e2a2829f8238feb&vjs=3\n",
      "https://www.indeed.com/viewjob?jk=b71170c475dbf3aa&fccid=e08122e0e993cc32&vjs=3\n",
      "https://www.indeed.com/viewjob?jk=2be4ae2f80a06de2&fccid=543d312513d77e90&vjs=3\n",
      "https://www.indeed.com/viewjob?jk=e266f9f4a893f8ba&fccid=160efb82f2462f14&vjs=3\n",
      "https://www.indeed.com/viewjob?jk=16b299feb23d15c1&fccid=1639254ea84748b5&vjs=3\n",
      "https://www.indeed.com/viewjob?jk=cfd08ea7f4b27d21&fccid=b1bd9b34a39d5dcd&vjs=3\n",
      "https://www.indeed.com/viewjob?jk=dd4117e88941026a&fccid=0140e51652b12787&vjs=3\n",
      "https://www.indeed.com/viewjob?jk=1b1d8c8a03f33591&fccid=d5a5824be27ba831&vjs=3\n",
      "https://www.indeed.com/viewjob?jk=4fa67c96b4d89255&fccid=dd616958bd9ddc12&vjs=3\n",
      "https://www.indeed.com/viewjob?jk=ed1fddb2303149b6&fccid=8ccb1e9fbe4ff984&vjs=3\n",
      "https://www.indeed.com/viewjob?jk=b0480fc39502098e&fccid=e6d4ba9e2cfe7902&vjs=3\n",
      "https://www.indeed.com/viewjob?jk=9246937bf2cd57c4&fccid=b90546797b186016&vjs=3\n",
      "https://www.indeed.com/viewjob?jk=203ccb833eb6caf8&fccid=aa78349c929d97f5&vjs=3\n",
      "https://www.indeed.com/viewjob?jk=2c17f394ae73099f&fccid=127ad7b1674e038f&vjs=3\n",
      "https://www.indeed.com/viewjob?jk=7bec2dafd6a8eccc&fccid=8fbd2fb43ca6132e&vjs=3\n",
      "https://www.indeed.com/viewjob?jk=b2ee20555521a2cc&fccid=a2b50ce8b9a3af90&vjs=3\n",
      "https://www.indeed.com/viewjob?jk=763eca2444cab164&fccid=6328b27691d3fdc3&vjs=3\n",
      "https://www.indeed.com/viewjob?jk=1c5334fb0253ac48&fccid=383d6a00135d5d1a&vjs=3\n",
      "https://www.indeed.com/viewjob?jk=adc370edc83c5179&fccid=9dd30dd046d9ac7a&vjs=3\n",
      "https://www.indeed.com/viewjob?jk=81243c69e572e277&fccid=b00c5e088999b49c&vjs=3\n",
      "https://www.indeed.com/viewjob?jk=b95a9003a319a2fb&fccid=adbb342bd2008a4b&vjs=3\n",
      "https://www.indeed.com/viewjob?jk=5acdf694ada18f1d&fccid=ad326fd4de64e5d0&vjs=3\n",
      "https://www.indeed.com/viewjob?jk=cc1c46ffe59d170d&fccid=e0368d24cb0bc926&vjs=3\n",
      "https://www.indeed.com/viewjob?jk=a818ee74a49bd065&fccid=2a5d204d1a2df598&vjs=3\n",
      "https://www.indeed.com/viewjob?jk=cf17977ea147e984&fccid=35313a9314d13326&vjs=3\n",
      "https://www.indeed.com/viewjob?jk=994fc32d4b278715&fccid=ba70b621d4301067&vjs=3\n",
      "https://www.indeed.com/viewjob?jk=4926c027f3a92951&fccid=f1374be6a45f4b8a&vjs=3\n",
      "https://www.indeed.com/viewjob?jk=dfba19477ef84c42&fccid=a3b51ece17c02aae&vjs=3\n",
      "https://www.indeed.com/viewjob?jk=62d25207253030d0&fccid=049a66f3ffa9366a&vjs=3\n",
      "https://www.indeed.com/viewjob?jk=974d9a9454dcfd34&fccid=55044c5a3ad55766&vjs=3\n",
      "https://www.indeed.com/viewjob?jk=f862101fce082197&fccid=d6a55efefd68dbd7&vjs=3\n",
      "https://www.indeed.com/viewjob?jk=c8ddbf3c6fa300ff&fccid=e4058469dacc7d38&vjs=3\n"
     ]
    }
   ],
   "source": [
    "for i in job_links:\n",
    "    print(i)"
   ]
  },
  {
   "cell_type": "code",
   "execution_count": 17,
   "metadata": {
    "slideshow": {
     "slide_type": "slide"
    }
   },
   "outputs": [],
   "source": [
    "skill_set = {'Python': 0, 'Scala': 0, 'Java': 0}    "
   ]
  },
  {
   "cell_type": "markdown",
   "metadata": {},
   "source": [
    "#### Parsing the above links to search for above skill sets "
   ]
  },
  {
   "cell_type": "code",
   "execution_count": 21,
   "metadata": {},
   "outputs": [
    {
     "name": "stdout",
     "output_type": "stream",
     "text": [
      "Parsing link: https://www.indeed.com/viewjob?jk=bd2d32a1e6455d95&fccid=734cb5a01ee60f80&vjs=3\n",
      "Parsing link: https://www.indeed.com/viewjob?jk=d7c01531f284eae6&fccid=d723225da214c842&vjs=3\n",
      "Parsing link: https://www.indeed.com/viewjob?jk=28fa52802a412b68&fccid=f1374be6a45f4b8a&vjs=3\n",
      "Parsing link: https://www.indeed.com/viewjob?jk=72faf98781d003d1&fccid=fe2d21eef233e94a&vjs=3\n",
      "Parsing link: https://www.indeed.com/viewjob?jk=b05c3418bd470d33&fccid=25b5166547bbf543&vjs=3\n",
      "Parsing link: https://www.indeed.com/viewjob?jk=466f2e0217407187&fccid=5570e8fef528b267&vjs=3\n",
      "Parsing link: https://www.indeed.com/viewjob?jk=ae16135f6b70d18c&fccid=510aa29fcf8f87d9&vjs=3\n",
      "Parsing link: https://www.indeed.com/viewjob?jk=3d5724ad39c214bb&fccid=9993304a3df214bf&vjs=3\n",
      "Parsing link: https://www.indeed.com/viewjob?jk=4f803d58e9f7e8c6&fccid=d6ef41e202aa2c0b&vjs=3\n",
      "Parsing link: https://www.indeed.com/viewjob?jk=60ca99bf7f8b5564&fccid=6dd2b85b361af592&vjs=3\n",
      "Parsing link: https://www.indeed.com/viewjob?jk=cbe04dd42f334a0b&fccid=6374759aed463ee1&vjs=3\n",
      "Parsing link: https://www.indeed.com/viewjob?jk=3d5724ad39c214bb&fccid=9993304a3df214bf&vjs=3\n",
      "Parsing link: https://www.indeed.com/viewjob?jk=4f803d58e9f7e8c6&fccid=d6ef41e202aa2c0b&vjs=3\n",
      "Parsing link: https://www.indeed.com/viewjob?jk=60ca99bf7f8b5564&fccid=6dd2b85b361af592&vjs=3\n",
      "Parsing link: https://www.indeed.com/viewjob?jk=cbe04dd42f334a0b&fccid=6374759aed463ee1&vjs=3\n",
      "Parsing link: https://www.indeed.com/viewjob?jk=9603caa0aa83ac01&fccid=fe7f1e13ed267208&vjs=3\n",
      "Parsing link: https://www.indeed.com/viewjob?jk=49319712d494235d&fccid=87c468e33547e102&vjs=3\n",
      "Parsing link: https://www.indeed.com/viewjob?jk=6eafd949c2435c31&fccid=062aeac481a6848e&vjs=3\n",
      "Parsing link: https://www.indeed.com/viewjob?jk=8c00fdf8f7d1c3af&fccid=221702469bec27b3&vjs=3\n",
      "Parsing link: https://www.indeed.com/viewjob?jk=3b966e840debd72f&fccid=7f0218b11da83056&vjs=3\n",
      "Parsing link: https://www.indeed.com/viewjob?jk=857aae370c511f0d&fccid=745cbfb7f662e21f&vjs=3\n",
      "Parsing link: https://www.indeed.com/viewjob?jk=6a5d4885108930d6&fccid=116680a29a847a70&vjs=3\n",
      "Parsing link: https://www.indeed.com/viewjob?jk=dc3e7796faa749e4&fccid=a9cde1a6d2c73a1e&vjs=3\n",
      "Parsing link: https://www.indeed.com/viewjob?jk=c9e5cec189589116&fccid=b4048be2884af072&vjs=3\n",
      "Parsing link: https://www.indeed.com/viewjob?jk=e9523d517bfdaa57&fccid=b03eba62d4adedf2&vjs=3\n",
      "Parsing link: https://www.indeed.com/viewjob?jk=be10d00e081815b1&fccid=a2b1f7c3f77a78d6&vjs=3\n",
      "Parsing link: https://www.indeed.com/viewjob?jk=9a105aa2f0eef971&fccid=6e3ab497868f8cc6&vjs=3\n",
      "Parsing link: https://www.indeed.com/viewjob?jk=e1884b2562c0e5f3&fccid=673eb17ad844c967&vjs=3\n",
      "Parsing link: https://www.indeed.com/viewjob?jk=85c3d4fc88c9e7c3&fccid=997247686a12385e&vjs=3\n",
      "Parsing link: https://www.indeed.com/viewjob?jk=0216e8e73351f52b&fccid=003656df63cede32&vjs=3\n",
      "Parsing link: https://www.indeed.com/viewjob?jk=4d5a0b1e73bd8774&fccid=a60af7a54a26eb04&vjs=3\n",
      "Parsing link: https://www.indeed.com/viewjob?jk=8d1aa6c43a7c8651&fccid=3d5f13be00eee4ac&vjs=3\n",
      "Parsing link: https://www.indeed.com/viewjob?jk=dad4cad66e8cc0c8&fccid=b6049a77e7af1391&vjs=3\n",
      "Parsing link: https://www.indeed.com/viewjob?jk=b6506065408f4f15&fccid=0ce02a3e84d031c6&vjs=3\n",
      "Parsing link: https://www.indeed.com/viewjob?jk=3f10f9bc4963ddc3&fccid=f5b1aded7e2e3757&vjs=3\n",
      "Parsing link: https://www.indeed.com/viewjob?jk=37454f93320090e7&fccid=2cd10564780b27e2&vjs=3\n",
      "Parsing link: https://www.indeed.com/viewjob?jk=851d2bad51444632&fccid=f0345de219ca6990&vjs=3\n",
      "Parsing link: https://www.indeed.com/viewjob?jk=f5cc0763f11ef17c&fccid=18d58239dbfc6097&vjs=3\n",
      "Parsing link: https://www.indeed.com/viewjob?jk=1fc98b8be83cab89&fccid=43014b1412e0a7b6&vjs=3\n",
      "Parsing link: https://www.indeed.com/viewjob?jk=7a42f95c614210ad&fccid=a41cf1afbad67fa7&vjs=3\n",
      "Parsing link: https://www.indeed.com/viewjob?jk=18959dfa3430e457&fccid=9e3eaa6f1988a84e&vjs=3\n",
      "Parsing link: https://www.indeed.com/viewjob?jk=6720cf1c03a1c426&fccid=2c23f29fcd5c78da&vjs=3\n",
      "Parsing link: https://www.indeed.com/viewjob?jk=7e41b7c3364fc870&fccid=01fd1f2f239c15f4&vjs=3\n",
      "Parsing link: https://www.indeed.com/viewjob?jk=7cffaa4489ba0d7e&fccid=06206ab329e0eb22&vjs=3\n",
      "Parsing link: https://www.indeed.com/viewjob?jk=8dd669bfaa2d8362&fccid=4925e167fdc076db&vjs=3\n",
      "Parsing link: https://www.indeed.com/viewjob?jk=0fe301d69539f491&fccid=b6add0e6a71f1008&vjs=3\n",
      "Parsing link: https://www.indeed.com/viewjob?jk=35f5e2d564973d7a&fccid=820491f872c24007&vjs=3\n",
      "Parsing link: https://www.indeed.com/viewjob?jk=be5d48e62c24ab15&fccid=9e215d88a6b33622&vjs=3\n",
      "Parsing link: https://www.indeed.com/viewjob?jk=3fdcf476f1122876&fccid=68d0e0954a811351&vjs=3\n",
      "Parsing link: https://www.indeed.com/viewjob?jk=f5b76f375746394d&fccid=aaf3b433897ea465&vjs=3\n"
     ]
    }
   ],
   "source": [
    "for job_link in job_links[:50]:\n",
    "    \n",
    "    #bs_tree = bs4.BeautifulSoup(html_page)\n",
    "    print(f\"Parsing link: {job_link}\")\n",
    "    try:\n",
    "        html_text = urllib.request.urlopen(job_link).read().decode(\"utf-8\") \n",
    "        html_text = re.sub(\"[,.;@#?!&$]+\",\" \", html_text)\n",
    "    except Exception as e:\n",
    "        print(str(e))\n",
    "    \n",
    "    for key in skill_set.keys():\n",
    "        if key in html_text:\n",
    "            skill_set[key] += 1\n",
    "    "
   ]
  },
  {
   "cell_type": "code",
   "execution_count": 24,
   "metadata": {},
   "outputs": [
    {
     "data": {
      "text/plain": [
       "{'Python': 100, 'Scala': 8, 'Java': 6}"
      ]
     },
     "execution_count": 24,
     "metadata": {},
     "output_type": "execute_result"
    }
   ],
   "source": [
    "skill_set"
   ]
  },
  {
   "cell_type": "code",
   "execution_count": 27,
   "metadata": {
    "slideshow": {
     "slide_type": "slide"
    }
   },
   "outputs": [
    {
     "data": {
      "image/png": "[encoded data removed]",
      "text/plain": [
       "<Figure size 432x288 with 1 Axes>"
      ]
     },
     "metadata": {
      "needs_background": "light"
     },
     "output_type": "display_data"
    }
   ],
   "source": [
    "pseries = pd.Series(skill_set)\n",
    "#pseries.sort(ascending=False)\n",
    "\n",
    "pseries.plot(kind = 'bar')\n",
    "## set the title to Score Comparison\n",
    "plt.title('Data Science Skills')\n",
    "plt.xlabel('Programming Language')\n",
    "plt.ylabel('Count')\n",
    "plt.grid(True)\n",
    "plt.show()"
   ]
  },
  {
   "cell_type": "code",
   "execution_count": null,
   "metadata": {},
   "outputs": [],
   "source": []
  },
  {
   "cell_type": "code",
   "execution_count": null,
   "metadata": {},
   "outputs": [],
   "source": []
  }
 ],
 "metadata": {
  "celltoolbar": "Slideshow",
  "kernelspec": {
   "display_name": "Python [conda env:preReqML] *",
   "language": "python",
   "name": "conda-env-preReqML-py"
  },
  "language_info": {
   "codemirror_mode": {
    "name": "ipython",
    "version": 3
   },
   "file_extension": ".py",
   "mimetype": "text/x-python",
   "name": "python",
   "nbconvert_exporter": "python",
   "pygments_lexer": "ipython3",
   "version": "3.8.5"
  }
 },
 "nbformat": 4,
 "nbformat_minor": 1
}
